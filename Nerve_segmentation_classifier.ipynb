{
 "cells": [
  {
   "cell_type": "code",
   "execution_count": null,
   "metadata": {
    "id": "InoNJUsUh3Vh"
   },
   "outputs": [],
   "source": [
    "!wget --header 'Host: storage.googleapis.com' --user-agent 'Mozilla/5.0 (X11; Ubuntu; Linux x86_64; rv:87.0) Gecko/20100101 Firefox/87.0' --header 'Accept: text/html,application/xhtml+xml,application/xml;q=0.9,image/webp,*/*;q=0.8' --header 'Accept-Language: en-US,en;q=0.5' --header 'Upgrade-Insecure-Requests: 1' 'https://storage.googleapis.com/kaggle-competitions-data/kaggle-v2/5144/862050/bundle/archive.zip?GoogleAccessId=web-data@kaggle-161607.iam.gserviceaccount.com&Expires=1619029562&Signature=M49cJanl0LkP6yuD1jvh3v784em9BZakCaGhKV0Bh8lZeypQ0zCp39YWEtbtor0G8WLtlElGrHU1XfSQviLSn4Y37gGIbdZy1VRTmf%2Bew%2B00mJY0h8f%2Bw%2BfW6nWL9huOmm9k%2BTviI2zjMdzWihynHZhlrIFgftW3M4vHWmi%2FtHtT5s328ZMLGlCE9EWanz8ysABbrPt8oa4B0j2BH5QdvUWKrHKSXvgw1MHuCfD%2F0u7eU9ig1AOYD9HXfexdsRzPt84p4WqOqHMOLVgxrU3b3KICQn28u8Bv%2BGVw1fyM%2BO0IWiaY0FGvOptdCZrm%2BQYQ0ZRh88pKGEdpzFN6X9eK7w%3D%3D&response-content-disposition=attachment%3B+filename%3Dultrasound-nerve-segmentation.zip' --output-document 'ultrasound-nerve-segmentation.zip'\n",
    "!pip install q keras==2.4.1\n",
    "!pip install segmentation_models\n",
    "!pip install tensorflow_io\n",
    "!unzip '/content/ultrasound-nerve-segmentation.zip'"
   ]
  },
  {
   "cell_type": "code",
   "execution_count": 2,
   "metadata": {
    "colab": {
     "base_uri": "https://localhost:8080/"
    },
    "id": "IGpma4kpiXt3",
    "outputId": "53cc85b3-41d8-413a-bb95-24967afd53f7"
   },
   "outputs": [
    {
     "name": "stderr",
     "output_type": "stream",
     "text": [
      "Using TensorFlow backend.\n"
     ]
    },
    {
     "name": "stdout",
     "output_type": "stream",
     "text": [
      "Segmentation Models: using `keras` framework.\n"
     ]
    }
   ],
   "source": [
    "import os\n",
    "import re\n",
    "import random\n",
    "import numpy as np\n",
    "import pandas as pd\n",
    "import matplotlib.pyplot as plt\n",
    "import re\n",
    "import seaborn as sns\n",
    "import cv2\n",
    "from PIL import Image\n",
    "from sklearn.model_selection import train_test_split, KFold\n",
    "import tensorflow_io as tfio\n",
    "import keras\n",
    "import tensorflow as tf\n",
    "# tf.compat.v1.enable_eager_execution()\n",
    "from tensorflow import keras\n",
    "from tensorflow.keras.layers import *\n",
    "from tensorflow.keras.preprocessing import image\n",
    "from tensorflow.keras.models import Model, load_model\n",
    "from tensorflow.keras.layers import UpSampling2D\n",
    "from tensorflow.keras.layers import MaxPooling2D, GlobalAveragePooling2D\n",
    "from tensorflow.keras.layers import concatenate,Dropout\n",
    "from tensorflow.keras.layers import Multiply, MaxPooling2D, GlobalMaxPooling2D\n",
    "from tensorflow.keras.callbacks import EarlyStopping, ModelCheckpoint\n",
    "from tensorflow.keras import backend as K\n",
    "from tensorflow.keras.layers import Input, Add, Dense, Activation, ZeroPadding2D\n",
    "from tensorflow.keras.layers import BatchNormalization, Flatten, Conv2D, AveragePooling2D\n",
    "from tensorflow.keras.models import Model, load_model\n",
    "from tensorflow.keras.callbacks import EarlyStopping, ModelCheckpoint, ReduceLROnPlateau\n",
    "from tensorflow.keras.utils import plot_model\n",
    "from tensorflow.keras.initializers import glorot_uniform\n",
    "from tensorflow.keras.optimizers import Adam\n",
    "from keras.callbacks import ModelCheckpoint\n",
    "import tensorflow\n",
    "import keras\n",
    "import cv2\n",
    "import imgaug.augmenters as iaa\n",
    "os.environ['TF_FORCE_GPU_ALLOW_GROWTH'] = 'true'\n",
    "import segmentation_models as sm\n",
    "from segmentation_models.metrics import iou_score\n",
    "from segmentation_models import Unet\n",
    "focal_loss = sm.losses.cce_dice_loss\n",
    "import random\n",
    "import segmentation_models as sm\n",
    "from segmentation_models import Unet\n",
    "# sm.set_framework('tf.keras')\n",
    "tf.keras.backend.set_image_data_format('channels_last')"
   ]
  },
  {
   "cell_type": "code",
   "execution_count": 3,
   "metadata": {
    "colab": {
     "base_uri": "https://localhost:8080/"
    },
    "id": "03oewE3RqIdl",
    "outputId": "efd9871f-2191-404d-b897-1c35747e177c"
   },
   "outputs": [
    {
     "name": "stdout",
     "output_type": "stream",
     "text": [
      "Mounted at /content/drive\n"
     ]
    }
   ],
   "source": [
    "from google.colab import drive\n",
    "drive.mount('/content/drive')"
   ]
  },
  {
   "cell_type": "code",
   "execution_count": 58,
   "metadata": {
    "id": "h8ItaONGi-mx"
   },
   "outputs": [],
   "source": [
    "#loading the dataframe containing images after removing conflicting images\n",
    "df=pd.read_csv('/content/train_masks.csv')\n",
    "img=pd.read_csv('/content/drive/MyDrive/dup_rem.csv')\n",
    "img.drop('Unnamed: 0',axis=1,inplace=True)\n",
    "img.image_name=img.image_name.astype(int)\n",
    "img.subject_name=img.subject_name.astype(int)\n",
    "img.columns=['image_path','img','subject','mask_path']\n",
    "new_df=pd.merge(img,df,on=['img','subject'])\n",
    "new_df.pixels.fillna(0,inplace=True)\n",
    "val=[0 if i==0 else 1 for i in new_df.pixels]\n",
    "new_df['mask_pres']=val"
   ]
  },
  {
   "cell_type": "code",
   "execution_count": 59,
   "metadata": {
    "id": "82GDG3V8jhZB"
   },
   "outputs": [],
   "source": [
    "def cnn_generator(images, labels, is_training, batch_size=64):\n",
    "    '''Construct a data generator using tf.Dataset'''\n",
    "    \n",
    "    def parse_function(filename,labels):\n",
    "        #reading path \n",
    "        image_string = tf.io.read_file(filename)\n",
    "        #decoding image\n",
    "        image = tfio.experimental.image.decode_tiff(image_string)\n",
    "\n",
    "        # This will convert to float values in [0, 1]\n",
    "        image = tf.image.convert_image_dtype(image, tf.float32)\n",
    "        \n",
    "        image = tf.image.resize(image, [im_height, im_width])\n",
    "        return image,labels\n",
    "    \n",
    "    def flip_lr(image,labels):\n",
    "        \n",
    "        image = tf.image.flip_left_right(image)\n",
    "        \n",
    "        return image,labels\n",
    "    def flip_ud(image,labels):\n",
    "        \n",
    "        image = tf.image.flip_up_down(image)\n",
    "        \n",
    "        return image,labels    \n",
    "    \n",
    "    def rotate(image,labels):\n",
    "        val=tf.random.uniform(shape=[], minval=0, maxval=4, dtype=tf.int32)\n",
    "        return tf.image.rot90(image, val),labels\n",
    "    \n",
    "    \n",
    "    dataset = tf.data.Dataset.from_tensor_slices((images,labels))\n",
    "    \n",
    "    if is_training:\n",
    "        dataset = dataset.shuffle(5000)  # depends on sample size\n",
    "        \n",
    "    # Transform and batch data at the same time\n",
    "    dataset = dataset.apply(tf.data.experimental.map_and_batch( parse_function, batch_size,num_parallel_batches=4,  # cpu cores\n",
    "        drop_remainder=True if is_training else False))\n",
    "    # augmentations = [flip,rotate]\n",
    "    \n",
    "    if is_training:   \n",
    "      if np.random.uniform(0,1)<0.1:\n",
    "          dataset = dataset.map(flip_lr)\n",
    "      elif np.random.uniform(0,1)<0.2:\n",
    "          dataset = dataset.map(flip_ud)\n",
    "      elif np.random.uniform(0,1)<0.3:        \n",
    "          dataset = dataset.map(rotate)\n",
    "    dataset = dataset.repeat()\n",
    "    \n",
    "    dataset = dataset.prefetch(tf.data.experimental.AUTOTUNE)\n",
    "    return dataset"
   ]
  },
  {
   "cell_type": "code",
   "execution_count": 60,
   "metadata": {
    "id": "mEue8pLUkgI1"
   },
   "outputs": [],
   "source": [
    "X_train, X_valid, y_train, y_valid = train_test_split(new_df.image_path, new_df.mask_pres, test_size=0.2, random_state=42)"
   ]
  },
  {
   "cell_type": "code",
   "execution_count": 61,
   "metadata": {
    "id": "Ie2644XbkiKE"
   },
   "outputs": [],
   "source": [
    "im_height=128\n",
    "im_width=128\n",
    "tf.keras.backend.clear_session()\n",
    "tr_cnn_generator = cnn_generator(X_train,y_train, is_training=True, batch_size=64)\n",
    "val_cnn_generator = cnn_generator(X_valid,y_valid, is_training=False, batch_size=64)"
   ]
  },
  {
   "cell_type": "code",
   "execution_count": 62,
   "metadata": {
    "id": "VkV-E37Mkk3O"
   },
   "outputs": [],
   "source": [
    "#using a pretrained network\n",
    "base_model = keras.applications.InceptionResNetV2(\n",
    "    weights='imagenet',  # Load weights pre-trained on ImageNet.\n",
    "    input_shape=(128, 128, 3),\n",
    "    include_top=False)"
   ]
  },
  {
   "cell_type": "code",
   "execution_count": 44,
   "metadata": {
    "id": "TD8q7L8Vk3Ie"
   },
   "outputs": [],
   "source": [
    "base_model.trainable = False"
   ]
  },
  {
   "cell_type": "code",
   "execution_count": 63,
   "metadata": {
    "id": "qQDQoOw4k7j9"
   },
   "outputs": [],
   "source": [
    "inp=Input((128,128,4))\n",
    "conv1=Conv2D(filters=3,kernel_size=(3,3),padding='same')(inp)\n",
    "base_model=base_model(conv1,training=False)\n",
    "out = Flatten()(base_model)\n",
    "out = Dense(1024, activation=\"relu\")(out)\n",
    "out = Dropout(0.5)(out)\n",
    "out = Dense(1, activation=\"sigmoid\")(out)"
   ]
  },
  {
   "cell_type": "code",
   "execution_count": 64,
   "metadata": {
    "id": "HLnO2MiTlM8e"
   },
   "outputs": [],
   "source": [
    "model_clf = Model(inputs = inp, outputs = out)"
   ]
  },
  {
   "cell_type": "code",
   "execution_count": 101,
   "metadata": {
    "id": "jwJSQsvelSro"
   },
   "outputs": [],
   "source": [
    "from datetime import datetime\n",
    "# logdir = \"logs/scalars/\" + datetime.now().strftime(\"%Y%m%d-%H%M%S\")\n",
    "# tensorboard_callback = keras.callbacks.TensorBoard(log_dir=logdir,histogram_freq=1, write_graph=True,write_grads=True)\n",
    "callbacks = [\n",
    "    ModelCheckpoint('best_model.h5', verbose=1, save_best_only=True, save_weights_only=False)\n",
    "    ]\n",
    "model_clf.compile(optimizer=Adam(lr=1e-8), loss='binary_crossentropy', metrics=['accuracy','AUC'])"
   ]
  },
  {
   "cell_type": "code",
   "execution_count": 54,
   "metadata": {
    "colab": {
     "base_uri": "https://localhost:8080/"
    },
    "id": "_kj3hLhqlZLO",
    "outputId": "c7c6fa6f-ab6f-4fb4-e9d8-10718968d1c1"
   },
   "outputs": [
    {
     "name": "stdout",
     "output_type": "stream",
     "text": [
      "Model: \"model_1\"\n",
      "_________________________________________________________________\n",
      "Layer (type)                 Output Shape              Param #   \n",
      "=================================================================\n",
      "input_4 (InputLayer)         [(None, 128, 128, 4)]     0         \n",
      "_________________________________________________________________\n",
      "conv2d_407 (Conv2D)          (None, 128, 128, 3)       111       \n",
      "_________________________________________________________________\n",
      "inception_resnet_v2 (Functio (None, 2, 2, 1536)        54336736  \n",
      "_________________________________________________________________\n",
      "flatten_1 (Flatten)          (None, 6144)              0         \n",
      "_________________________________________________________________\n",
      "dense_2 (Dense)              (None, 1024)              6292480   \n",
      "_________________________________________________________________\n",
      "dropout_1 (Dropout)          (None, 1024)              0         \n",
      "_________________________________________________________________\n",
      "dense_3 (Dense)              (None, 1)                 1025      \n",
      "=================================================================\n",
      "Total params: 60,630,352\n",
      "Trainable params: 60,569,808\n",
      "Non-trainable params: 60,544\n",
      "_________________________________________________________________\n"
     ]
    }
   ],
   "source": [
    "model_clf.summary()"
   ]
  },
  {
   "cell_type": "code",
   "execution_count": null,
   "metadata": {
    "colab": {
     "base_uri": "https://localhost:8080/"
    },
    "id": "uZykyk9Oldyh",
    "outputId": "db951235-634c-4a6c-bfd8-986ace5c6e9d"
   },
   "outputs": [
    {
     "name": "stdout",
     "output_type": "stream",
     "text": [
      "Epoch 1/30\n",
      "64/64 [==============================] - 64s 809ms/step - loss: 6.1494 - accuracy: 0.5266 - auc: 0.5153 - val_loss: 0.6346 - val_accuracy: 0.5958 - val_auc: 0.6949\n",
      "\n",
      "Epoch 00001: val_loss improved from inf to 0.63464, saving model to best_model.h5\n",
      "Epoch 2/30\n",
      "64/64 [==============================] - 54s 852ms/step - loss: 0.6686 - accuracy: 0.5907 - auc: 0.6117 - val_loss: 0.6236 - val_accuracy: 0.6616 - val_auc: 0.7080\n",
      "\n",
      "Epoch 00002: val_loss improved from 0.63464 to 0.62360, saving model to best_model.h5\n",
      "Epoch 3/30\n",
      "64/64 [==============================] - 55s 875ms/step - loss: 0.6273 - accuracy: 0.6468 - auc: 0.6938 - val_loss: 0.6069 - val_accuracy: 0.6830 - val_auc: 0.7301\n",
      "\n",
      "Epoch 00003: val_loss improved from 0.62360 to 0.60689, saving model to best_model.h5\n",
      "Epoch 4/30\n",
      "64/64 [==============================] - 57s 888ms/step - loss: 0.6188 - accuracy: 0.6562 - auc: 0.7101 - val_loss: 0.5891 - val_accuracy: 0.6849 - val_auc: 0.7469\n",
      "\n",
      "Epoch 00004: val_loss improved from 0.60689 to 0.58910, saving model to best_model.h5\n",
      "Epoch 5/30\n",
      "64/64 [==============================] - 55s 871ms/step - loss: 0.6086 - accuracy: 0.6611 - auc: 0.7139 - val_loss: 0.5847 - val_accuracy: 0.6857 - val_auc: 0.7508\n",
      "\n",
      "Epoch 00005: val_loss improved from 0.58910 to 0.58467, saving model to best_model.h5\n",
      "Epoch 6/30\n",
      "64/64 [==============================] - 57s 889ms/step - loss: 0.6073 - accuracy: 0.6672 - auc: 0.7230 - val_loss: 0.5742 - val_accuracy: 0.7021 - val_auc: 0.7609\n",
      "\n",
      "Epoch 00006: val_loss improved from 0.58467 to 0.57416, saving model to best_model.h5\n",
      "Epoch 7/30\n",
      "64/64 [==============================] - 56s 885ms/step - loss: 0.5874 - accuracy: 0.6896 - auc: 0.7499 - val_loss: 0.5668 - val_accuracy: 0.7063 - val_auc: 0.7794\n",
      "\n",
      "Epoch 00007: val_loss improved from 0.57416 to 0.56679, saving model to best_model.h5\n",
      "Epoch 8/30\n",
      "64/64 [==============================] - 55s 861ms/step - loss: 0.5740 - accuracy: 0.7005 - auc: 0.7595 - val_loss: 0.5769 - val_accuracy: 0.6834 - val_auc: 0.7668\n",
      "\n",
      "Epoch 00008: val_loss did not improve from 0.56679\n",
      "Epoch 9/30\n",
      "64/64 [==============================] - 50s 790ms/step - loss: 0.5950 - accuracy: 0.6804 - auc: 0.7398 - val_loss: 0.5742 - val_accuracy: 0.6925 - val_auc: 0.7758\n",
      "\n",
      "Epoch 00009: val_loss did not improve from 0.56679\n",
      "Epoch 10/30\n",
      "64/64 [==============================] - 48s 760ms/step - loss: 0.5706 - accuracy: 0.7016 - auc: 0.7620 - val_loss: 0.5605 - val_accuracy: 0.7191 - val_auc: 0.7846\n",
      "\n",
      "Epoch 00010: val_loss improved from 0.56679 to 0.56053, saving model to best_model.h5\n",
      "Epoch 11/30\n",
      "64/64 [==============================] - 48s 756ms/step - loss: 0.5589 - accuracy: 0.7007 - auc: 0.7804 - val_loss: 0.5734 - val_accuracy: 0.6957 - val_auc: 0.7792\n",
      "\n",
      "Epoch 00011: val_loss did not improve from 0.56053\n",
      "Epoch 12/30\n",
      "64/64 [==============================] - 48s 753ms/step - loss: 0.5642 - accuracy: 0.7052 - auc: 0.7682 - val_loss: 0.5519 - val_accuracy: 0.7110 - val_auc: 0.7896\n",
      "\n",
      "Epoch 00012: val_loss improved from 0.56053 to 0.55194, saving model to best_model.h5\n",
      "Epoch 13/30\n",
      "64/64 [==============================] - 48s 753ms/step - loss: 0.5557 - accuracy: 0.7179 - auc: 0.7831 - val_loss: 0.6152 - val_accuracy: 0.6525 - val_auc: 0.7805\n",
      "\n",
      "Epoch 00013: val_loss did not improve from 0.55194\n",
      "Epoch 14/30\n",
      "64/64 [==============================] - 48s 750ms/step - loss: 0.5517 - accuracy: 0.7145 - auc: 0.7846 - val_loss: 0.5461 - val_accuracy: 0.7269 - val_auc: 0.7913\n",
      "\n",
      "Epoch 00014: val_loss improved from 0.55194 to 0.54609, saving model to best_model.h5\n",
      "Epoch 15/30\n",
      "64/64 [==============================] - 48s 757ms/step - loss: 0.5474 - accuracy: 0.7204 - auc: 0.7912 - val_loss: 0.5632 - val_accuracy: 0.6979 - val_auc: 0.7911\n",
      "\n",
      "Epoch 00015: val_loss did not improve from 0.54609\n",
      "Epoch 16/30\n",
      "64/64 [==============================] - 48s 748ms/step - loss: 0.5459 - accuracy: 0.7181 - auc: 0.7927 - val_loss: 0.5298 - val_accuracy: 0.7119 - val_auc: 0.8024\n",
      "\n",
      "Epoch 00016: val_loss improved from 0.54609 to 0.52985, saving model to best_model.h5\n",
      "Epoch 17/30\n",
      "64/64 [==============================] - 48s 753ms/step - loss: 0.5614 - accuracy: 0.7139 - auc: 0.7821 - val_loss: 0.5530 - val_accuracy: 0.7284 - val_auc: 0.8066\n",
      "\n",
      "Epoch 00017: val_loss did not improve from 0.52985\n",
      "Epoch 18/30\n",
      "64/64 [==============================] - 48s 750ms/step - loss: 0.5587 - accuracy: 0.7022 - auc: 0.7802 - val_loss: 0.5350 - val_accuracy: 0.7222 - val_auc: 0.8077\n",
      "\n",
      "Epoch 00018: val_loss did not improve from 0.52985\n",
      "Epoch 19/30\n",
      "64/64 [==============================] - 48s 753ms/step - loss: 0.5449 - accuracy: 0.7160 - auc: 0.7962 - val_loss: 0.5359 - val_accuracy: 0.7198 - val_auc: 0.8041\n",
      "\n",
      "Epoch 00019: val_loss did not improve from 0.52985\n",
      "Epoch 20/30\n",
      "64/64 [==============================] - 48s 753ms/step - loss: 0.5437 - accuracy: 0.7255 - auc: 0.7933 - val_loss: 0.5241 - val_accuracy: 0.7350 - val_auc: 0.8051\n",
      "\n",
      "Epoch 00020: val_loss improved from 0.52985 to 0.52411, saving model to best_model.h5\n",
      "Epoch 21/30\n",
      "64/64 [==============================] - 48s 753ms/step - loss: 0.5424 - accuracy: 0.7198 - auc: 0.7943 - val_loss: 0.5350 - val_accuracy: 0.7289 - val_auc: 0.8060\n",
      "\n",
      "Epoch 00021: val_loss did not improve from 0.52411\n",
      "Epoch 22/30\n",
      "64/64 [==============================] - 48s 748ms/step - loss: 0.5516 - accuracy: 0.7013 - auc: 0.7787 - val_loss: 0.5384 - val_accuracy: 0.7335 - val_auc: 0.8104\n",
      "\n",
      "Epoch 00022: val_loss did not improve from 0.52411\n",
      "Epoch 23/30\n",
      "64/64 [==============================] - 47s 736ms/step - loss: 0.5465 - accuracy: 0.7117 - auc: 0.7904 - val_loss: 0.5444 - val_accuracy: 0.7257 - val_auc: 0.8075\n",
      "\n",
      "Epoch 00023: val_loss did not improve from 0.52411\n",
      "Epoch 24/30\n",
      "64/64 [==============================] - 49s 747ms/step - loss: 0.5480 - accuracy: 0.7178 - auc: 0.7884 - val_loss: 0.5288 - val_accuracy: 0.7367 - val_auc: 0.8047\n",
      "\n",
      "Epoch 00024: val_loss did not improve from 0.52411\n",
      "Epoch 25/30\n",
      "64/64 [==============================] - 49s 768ms/step - loss: 0.5246 - accuracy: 0.7293 - auc: 0.8095 - val_loss: 0.5121 - val_accuracy: 0.7490 - val_auc: 0.8185\n",
      "\n",
      "Epoch 00025: val_loss improved from 0.52411 to 0.51205, saving model to best_model.h5\n",
      "Epoch 26/30\n",
      "64/64 [==============================] - 48s 759ms/step - loss: 0.5509 - accuracy: 0.7074 - auc: 0.7750 - val_loss: 0.5295 - val_accuracy: 0.7301 - val_auc: 0.8110\n",
      "\n",
      "Epoch 00026: val_loss did not improve from 0.51205\n",
      "Epoch 27/30\n",
      "64/64 [==============================] - 48s 750ms/step - loss: 0.5175 - accuracy: 0.7302 - auc: 0.8135 - val_loss: 0.5342 - val_accuracy: 0.7335 - val_auc: 0.8089\n",
      "\n",
      "Epoch 00027: val_loss did not improve from 0.51205\n",
      "Epoch 28/30\n",
      "64/64 [==============================] - 48s 754ms/step - loss: 0.5482 - accuracy: 0.7153 - auc: 0.7919 - val_loss: 0.5222 - val_accuracy: 0.7365 - val_auc: 0.8096\n",
      "\n",
      "Epoch 00028: val_loss did not improve from 0.51205\n",
      "Epoch 29/30\n",
      "64/64 [==============================] - 48s 757ms/step - loss: 0.5166 - accuracy: 0.7417 - auc: 0.8138 - val_loss: 0.5167 - val_accuracy: 0.7439 - val_auc: 0.8112\n",
      "\n",
      "Epoch 00029: val_loss did not improve from 0.51205\n",
      "Epoch 30/30\n",
      "64/64 [==============================] - 48s 755ms/step - loss: 0.5192 - accuracy: 0.7343 - auc: 0.8134 - val_loss: 0.5208 - val_accuracy: 0.7434 - val_auc: 0.8132\n",
      "\n",
      "Epoch 00030: val_loss did not improve from 0.51205\n"
     ]
    }
   ],
   "source": [
    "result_clf=model_clf.fit(tr_cnn_generator,steps_per_epoch=64,epochs=30,validation_data=val_cnn_generator,validation_steps=64,callbacks=callbacks,initial_epoch=0)"
   ]
  },
  {
   "cell_type": "code",
   "execution_count": 109,
   "metadata": {
    "id": "gBerj0FnX0XQ"
   },
   "outputs": [],
   "source": [
    "model_clf.load_weights('best_model.h5')"
   ]
  },
  {
   "cell_type": "code",
   "execution_count": 99,
   "metadata": {
    "id": "raI7kVTr-IA1"
   },
   "outputs": [],
   "source": [
    "def classifier_generator(images):\n",
    "    '''Data generator for inference phase'''\n",
    "    image_string=tf.io.read_file(images)\n",
    "    image = tfio.experimental.image.decode_tiff(image_string)\n",
    "    image = tf.image.convert_image_dtype(image, tf.float32)\n",
    "    image = tf.image.resize(image, [128, 128])\n",
    "    return image"
   ]
  },
  {
   "cell_type": "markdown",
   "metadata": {
    "id": "7F1SFBiyOmcz"
   },
   "source": [
    "Prediction"
   ]
  },
  {
   "cell_type": "code",
   "execution_count": 73,
   "metadata": {
    "id": "d3NlhXp2bvgb"
   },
   "outputs": [],
   "source": [
    "#generating predictions on train and validation set\n",
    "X_tr=np.zeros((len(X_train),128,128,4))\n",
    "X_val=np.zeros((len(X_valid),128,128,4))\n",
    "for i in range(len(X_train)):\n",
    "  X_tr[i]=classifier_generator(X_train.iloc[i])\n",
    "for i in range(len(X_valid)):\n",
    "  X_val[i]=classifier_generator(X_valid.iloc[i])  \n",
    "pred_clf_tr=model_clf.predict(X_tr)\n",
    "pred_clf_val=model_clf.predict(X_val)"
   ]
  },
  {
   "cell_type": "code",
   "execution_count": 106,
   "metadata": {
    "id": "mMYM6aqVmTI2"
   },
   "outputs": [],
   "source": [
    "#using a default thresold of 0.5 for prediction\n",
    "pred_clf_val=(np.array(pred_clf_val)>0.5)\n",
    "pred_clf_tr=(np.array(pred_clf_tr)>0.5)"
   ]
  },
  {
   "cell_type": "code",
   "execution_count": 90,
   "metadata": {
    "id": "BaVm9PnzaCve"
   },
   "outputs": [],
   "source": [
    "def Heatmapgen(x):\n",
    "#https://medium.com/@dtuk81/confusion-matrix-visualization-fc31e3f30fea referred from here\n",
    "  group_names = ['True -ve','False +ve','False -ve','True +ve']\n",
    "  group_counts = ['{0:0.0f}'.format(value) for value in x.flatten()]\n",
    "  labels = [f'{v1}\\n{v2}' for v1, v2 in\n",
    "  zip(group_names,group_counts)]\n",
    "  labels = np.asarray(labels).reshape(2,2)\n",
    "  sns.heatmap(x, annot=labels, fmt='', cmap='RdBu')"
   ]
  },
  {
   "cell_type": "markdown",
   "metadata": {
    "id": "U84HxNjXOuw4"
   },
   "source": [
    "Getting number of false positives and false negatives"
   ]
  },
  {
   "cell_type": "code",
   "execution_count": null,
   "metadata": {
    "colab": {
     "base_uri": "https://localhost:8080/",
     "height": 237
    },
    "id": "6HpQhPqjaDhS",
    "outputId": "37de8fb5-2c5c-4249-c02f-2a658313c4cf"
   },
   "outputs": [
    {
     "data": {
      "image/png": "[encoded data removed]",
      "text/plain": [
       "<Figure size 720x504 with 4 Axes>"
      ]
     },
     "metadata": {
      "needs_background": "light",
      "tags": []
     },
     "output_type": "display_data"
    }
   ],
   "source": [
    "#generating the confusion matrix\n",
    "from sklearn.metrics import confusion_matrix\n",
    "fig = plt.figure(figsize=(10,7))\n",
    "ax1 = fig.add_subplot(221)\n",
    "cf_matr1=confusion_matrix(y_train,pred_clf_tr_)\n",
    "plt.title('Train confusion matrix')\n",
    "Heatmapgen(cf_matr1)\n",
    "ax2 = fig.add_subplot(222)\n",
    "cf_matr2=confusion_matrix(y_valid,pred_clf_val_)\n",
    "plt.title('Validation confusion matrix')\n",
    "Heatmapgen(cf_matr2)"
   ]
  },
  {
   "cell_type": "code",
   "execution_count": 75,
   "metadata": {
    "id": "XDegP8EsgdyJ"
   },
   "outputs": [],
   "source": [
    "#storing the predictions in a list\n",
    "pred_clf_val=[i[0] for i in pred_clf_val]\n",
    "pred_clf_tr=[i[0] for i in pred_clf_tr]"
   ]
  },
  {
   "cell_type": "markdown",
   "metadata": {
    "id": "EecOXQUXO1ox"
   },
   "source": [
    "Oversampling misclassified points"
   ]
  },
  {
   "cell_type": "code",
   "execution_count": 76,
   "metadata": {
    "id": "YfkaDvUzlbTp"
   },
   "outputs": [],
   "source": [
    "#getting the misclassified data points\n",
    "wrng_pred=np.where(pred_clf_tr!=y_train,1,0)\n",
    "#getting the indices..\n",
    "wrng_pred=np.argwhere(wrng_pred)\n",
    "wrng_pred=[i[0] for i in wrng_pred]\n",
    "#out of misclassified datapoints randomly sampling 500 data points\n",
    "smpl=random.sample(wrng_pred,500)\n",
    "X_tr_smp=X_train.iloc[smpl]\n",
    "y_tr_smp=y_train.iloc[smpl]\n",
    "#oversampling the train set with misclassified datapoints\n",
    "X_train_new=X_train.append(X_tr_smp)\n",
    "y_train_new=y_train.append(y_tr_smp)"
   ]
  },
  {
   "cell_type": "code",
   "execution_count": 77,
   "metadata": {
    "id": "cRX2R4aosDA7"
   },
   "outputs": [],
   "source": [
    "im_height=128\n",
    "im_width=128\n",
    "tf.keras.backend.clear_session()\n",
    "tr_cnn_generator = cnn_generator(X_train_new,y_train_new, is_training=True, batch_size=64)\n",
    "val_cnn_generator = cnn_generator(X_valid,y_valid, is_training=False, batch_size=64)"
   ]
  },
  {
   "cell_type": "markdown",
   "metadata": {
    "id": "ZzPL4L-kO9lD"
   },
   "source": [
    "Retraining the model on oversampled points"
   ]
  },
  {
   "cell_type": "code",
   "execution_count": 110,
   "metadata": {
    "colab": {
     "base_uri": "https://localhost:8080/"
    },
    "id": "-dQiRi_GPh7M",
    "outputId": "41c49ef3-b55e-4294-9fda-685d028f5c90"
   },
   "outputs": [
    {
     "name": "stdout",
     "output_type": "stream",
     "text": [
      "Epoch 11/20\n",
      "64/64 [==============================] - 45s 690ms/step - loss: 0.4203 - accuracy: 0.7974 - auc: 0.8858 - val_loss: 0.4827 - val_accuracy: 0.7736 - val_auc: 0.8483\n",
      "\n",
      "Epoch 00011: val_loss improved from inf to 0.48270, saving model to best_model.h5\n",
      "Epoch 12/20\n",
      "64/64 [==============================] - 44s 684ms/step - loss: 0.4264 - accuracy: 0.7917 - auc: 0.8829 - val_loss: 0.4828 - val_accuracy: 0.7726 - val_auc: 0.8485\n",
      "\n",
      "Epoch 00012: val_loss did not improve from 0.48270\n",
      "Epoch 13/20\n",
      "64/64 [==============================] - 43s 676ms/step - loss: 0.4269 - accuracy: 0.7896 - auc: 0.8807 - val_loss: 0.4828 - val_accuracy: 0.7716 - val_auc: 0.8485\n",
      "\n",
      "Epoch 00013: val_loss did not improve from 0.48270\n",
      "Epoch 14/20\n",
      "64/64 [==============================] - 43s 679ms/step - loss: 0.4263 - accuracy: 0.7893 - auc: 0.8825 - val_loss: 0.4828 - val_accuracy: 0.7716 - val_auc: 0.8486\n",
      "\n",
      "Epoch 00014: val_loss did not improve from 0.48270\n",
      "Epoch 15/20\n",
      "64/64 [==============================] - 43s 676ms/step - loss: 0.4193 - accuracy: 0.7971 - auc: 0.8859 - val_loss: 0.4828 - val_accuracy: 0.7726 - val_auc: 0.8485\n",
      "\n",
      "Epoch 00015: val_loss did not improve from 0.48270\n",
      "Epoch 16/20\n",
      "64/64 [==============================] - 43s 675ms/step - loss: 0.4219 - accuracy: 0.7908 - auc: 0.8845 - val_loss: 0.4829 - val_accuracy: 0.7716 - val_auc: 0.8485\n",
      "\n",
      "Epoch 00016: val_loss did not improve from 0.48270\n",
      "Epoch 17/20\n",
      "64/64 [==============================] - 43s 678ms/step - loss: 0.4246 - accuracy: 0.7922 - auc: 0.8833 - val_loss: 0.4829 - val_accuracy: 0.7716 - val_auc: 0.8485\n",
      "\n",
      "Epoch 00017: val_loss did not improve from 0.48270\n",
      "Epoch 18/20\n",
      "64/64 [==============================] - 45s 708ms/step - loss: 0.4346 - accuracy: 0.7834 - auc: 0.8760 - val_loss: 0.4829 - val_accuracy: 0.7714 - val_auc: 0.8485\n",
      "\n",
      "Epoch 00018: val_loss did not improve from 0.48270\n",
      "Epoch 19/20\n",
      "64/64 [==============================] - 43s 677ms/step - loss: 0.4099 - accuracy: 0.8000 - auc: 0.8916 - val_loss: 0.4830 - val_accuracy: 0.7714 - val_auc: 0.8484\n",
      "\n",
      "Epoch 00019: val_loss did not improve from 0.48270\n",
      "Epoch 20/20\n",
      "64/64 [==============================] - 43s 681ms/step - loss: 0.4224 - accuracy: 0.7954 - auc: 0.8847 - val_loss: 0.4829 - val_accuracy: 0.7726 - val_auc: 0.8485\n",
      "\n",
      "Epoch 00020: val_loss did not improve from 0.48270\n"
     ]
    }
   ],
   "source": [
    "#retraining the model with oversampled data\n",
    "result_clf=model_clf.fit(tr_cnn_generator,steps_per_epoch=64,epochs=20,validation_data=val_cnn_generator,validation_steps=64,callbacks=callbacks,initial_epoch=10)"
   ]
  },
  {
   "cell_type": "code",
   "execution_count": 103,
   "metadata": {
    "id": "pYO8tuaxpLDW"
   },
   "outputs": [],
   "source": [
    "#getting predictions using new model\n",
    "X_tr=np.zeros((len(X_train),128,128,4))\n",
    "X_val=np.zeros((len(X_valid),128,128,4))\n",
    "for i in range(len(X_train)):\n",
    "  X_tr[i]=classifier_generator(X_train.iloc[i])\n",
    "for i in range(len(X_valid)):\n",
    "  X_val[i]=classifier_generator(X_valid.iloc[i])  \n",
    "pred_clf_tr=model_clf.predict(X_tr)\n",
    "pred_clf_val=model_clf.predict(X_val)"
   ]
  },
  {
   "cell_type": "code",
   "execution_count": 104,
   "metadata": {
    "id": "FkZZjcoBnD8r"
   },
   "outputs": [],
   "source": [
    "#finding the best threshold on the newly trained model\n",
    "#for this we calculate both the false positives and false negatives in the predictions\n",
    "fp_arr_tr=[]\n",
    "fn_arr_tr=[]\n",
    "fp_arr_val=[]\n",
    "fn_arr_val=[]\n",
    "thresholds=[0.3,0.35,0.4,0.45,0.5,0.55,0.6]\n",
    "for i in thresholds:\n",
    "  pred_clf_val_=(np.array(pred_clf_val)>i)\n",
    "  pred_clf_tr_=(np.array(pred_clf_tr)>i)\n",
    "  cf_matr1=confusion_matrix(y_train,pred_clf_tr_)\n",
    "  cf_matr2=confusion_matrix(y_valid,pred_clf_val_)\n",
    "  fp_arr_tr.append(cf_matr1[0][1])\n",
    "  fn_arr_tr.append(cf_matr1[1][0])\n",
    "  fp_arr_val.append(cf_matr2[0][1])\n",
    "  fn_arr_val.append(cf_matr2[1][0])\n"
   ]
  },
  {
   "cell_type": "markdown",
   "metadata": {
    "id": "X8MEDl1_PGPQ"
   },
   "source": [
    "Trying various thresholds"
   ]
  },
  {
   "cell_type": "code",
   "execution_count": 108,
   "metadata": {
    "colab": {
     "base_uri": "https://localhost:8080/",
     "height": 280
    },
    "id": "ww04USrmOLRs",
    "outputId": "cfd6d41d-c51b-48fd-d51a-3c69ee666b47"
   },
   "outputs": [
    {
     "data": {
      "image/png": "[encoded data removed]",
      "text/plain": [
       "<Figure size 576x288 with 2 Axes>"
      ]
     },
     "metadata": {
      "needs_background": "light",
      "tags": []
     },
     "output_type": "display_data"
    }
   ],
   "source": [
    "#plotting the fp and fn in train and validation set\n",
    "fig,ax=plt.subplots(1,2,figsize=(8,4))\n",
    "ax[0].set_title('Train set')\n",
    "ax[0].plot(thresholds,fp_arr_tr,label='False +ve')\n",
    "ax[0].plot(thresholds,fn_arr_tr,label='False -ve')\n",
    "ax[1].set_title('Validation set')\n",
    "ax[1].plot(thresholds,fp_arr_val,label='False +ve')\n",
    "ax[1].plot(thresholds,fn_arr_val,label='False -ve')\n",
    "plt.legend()\n",
    "plt.show()"
   ]
  },
  {
   "cell_type": "code",
   "execution_count": 91,
   "metadata": {
    "colab": {
     "base_uri": "https://localhost:8080/",
     "height": 237
    },
    "id": "BwiWyXd2lYoY",
    "outputId": "5cd5a7d9-968a-4e17-bb22-79c09744b7fe"
   },
   "outputs": [
    {
     "data": {
      "image/png": "[encoded data removed]",
      "text/plain": [
       "<Figure size 720x504 with 4 Axes>"
      ]
     },
     "metadata": {
      "needs_background": "light",
      "tags": []
     },
     "output_type": "display_data"
    }
   ],
   "source": [
    "#0.5\n",
    "from sklearn.metrics import confusion_matrix\n",
    "fig = plt.figure(figsize=(10,7))\n",
    "ax1 = fig.add_subplot(221)\n",
    "cf_matr1=confusion_matrix(y_train,pred_clf_tr)\n",
    "plt.title('Train confusion matrix')\n",
    "Heatmapgen(cf_matr1)\n",
    "ax2 = fig.add_subplot(222)\n",
    "cf_matr2=confusion_matrix(y_valid,pred_clf_val)\n",
    "plt.title('Validation confusion matrix')\n",
    "Heatmapgen(cf_matr2)"
   ]
  },
  {
   "cell_type": "markdown",
   "metadata": {
    "id": "A8X5p--zPJzi"
   },
   "source": [
    "At threshold of 0.5 both fp and fn were together miniimum.."
   ]
  }
 ],
 "metadata": {
  "accelerator": "GPU",
  "colab": {
   "collapsed_sections": [],
   "name": "classifier_nerve_(1).ipynb",
   "provenance": []
  },
  "kernelspec": {
   "display_name": "Python 3",
   "language": "python",
   "name": "python3"
  },
  "language_info": {
   "codemirror_mode": {
    "name": "ipython",
    "version": 3
   },
   "file_extension": ".py",
   "mimetype": "text/x-python",
   "name": "python",
   "nbconvert_exporter": "python",
   "pygments_lexer": "ipython3",
   "version": "3.8.5"
  }
 },
 "nbformat": 4,
 "nbformat_minor": 1
}

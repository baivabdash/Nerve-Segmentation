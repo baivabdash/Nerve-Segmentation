{
 "cells": [
  {
   "cell_type": "code",
   "execution_count": null,
   "metadata": {
    "id": "IEnDi5SgT5jE"
   },
   "outputs": [],
   "source": [
    "!pip install q keras==2.4.1\n",
    "!pip install segmentation_models\n",
    "!pip install tensorflow_io"
   ]
  },
  {
   "cell_type": "code",
   "execution_count": null,
   "metadata": {
    "id": "DLKjboOx0aFa"
   },
   "outputs": [],
   "source": [
    "!curl -LkO https://raw.githubusercontent.com/remoteit/installer/master/scripts/auto-install.sh\n",
    "! chmod +x ./auto-install.sh\n",
    "! sudo ./auto-install.sh"
   ]
  },
  {
   "cell_type": "code",
   "execution_count": null,
   "metadata": {
    "id": "HebIcboK0bjK"
   },
   "outputs": [],
   "source": [
    "! sudo connectd_installer"
   ]
  },
  {
   "cell_type": "code",
   "execution_count": null,
   "metadata": {
    "id": "F5wvo6ai0g8t"
   },
   "outputs": [],
   "source": [
    "!pip install streamlit"
   ]
  },
  {
   "cell_type": "code",
   "execution_count": null,
   "metadata": {
    "colab": {
     "base_uri": "https://localhost:8080/"
    },
    "id": "_3oI8SOd1Gxr",
    "outputId": "6f214c7b-8caa-409e-89e3-282dbf9dcbaa"
   },
   "outputs": [
    {
     "name": "stdout",
     "output_type": "stream",
     "text": [
      "Overwriting app.py\n"
     ]
    }
   ],
   "source": [
    "%%writefile app.py\n",
    "import os\n",
    "import numpy as np\n",
    "import requests\n",
    "import cv2\n",
    "import matplotlib.pyplot as plt\n",
    "from PIL import Image\n",
    "import tensorflow as tf\n",
    "import streamlit as st\n",
    "from tensorflow import keras\n",
    "import tensorflow_io as tfio\n",
    "from keras.applications.imagenet_utils import preprocess_input, decode_predictions\n",
    "from keras.models import load_model\n",
    "from keras.preprocessing import image\n",
    "from tensorflow.keras.layers import *\n",
    "from tensorflow.keras.preprocessing import image\n",
    "from tensorflow.keras.models import Model, load_model\n",
    "from tensorflow.keras.layers import UpSampling2D\n",
    "from tensorflow.keras.layers import MaxPooling2D, GlobalAveragePooling2D\n",
    "from tensorflow.keras.layers import concatenate,Dropout\n",
    "from tensorflow.keras.layers import Multiply, MaxPooling2D, GlobalMaxPooling2D\n",
    "from tensorflow.keras.callbacks import EarlyStopping, ModelCheckpoint\n",
    "from tensorflow.keras import backend as K\n",
    "from tensorflow.keras.layers import Input, Add, Dense, Activation, ZeroPadding2D\n",
    "from tensorflow.keras.layers import BatchNormalization, Flatten, Conv2D, AveragePooling2D\n",
    "from tensorflow.keras.models import Model, load_model\n",
    "from tensorflow.keras.callbacks import EarlyStopping, ModelCheckpoint, ReduceLROnPlateau\n",
    "from tensorflow.keras.utils import plot_model\n",
    "from tensorflow.keras.initializers import glorot_uniform\n",
    "from tensorflow.keras.optimizers import Adam\n",
    "from tensorflow.keras.utils import plot_model\n",
    "from keras.callbacks import ModelCheckpoint\n",
    "import imgaug.augmenters as iaa\n",
    "os.environ['TF_FORCE_GPU_ALLOW_GROWTH'] = 'true'\n",
    "import segmentation_models as sm\n",
    "from segmentation_models.metrics import iou_score\n",
    "from segmentation_models import Unet\n",
    "focal_loss = sm.losses.cce_dice_loss\n",
    "\n",
    "# st.set_option('deprecation.showfileuploaderEncoding',False)\n",
    "st.title('Nerve segmentation web app')\n",
    "\n",
    "@st.cache(allow_output_mutation=True)\n",
    "def load_model():\n",
    "  model_clf = keras.models.load_model('/content/drive/MyDrive/classfier_nerve')\n",
    "  model=keras.models.load_model('/content/drive/MyDrive/segmetnor',custom_objects={'categorical_crossentropy_plus_dice_loss':focal_loss,'iou_score':iou_score})\n",
    "  return model_clf,model\n",
    "\n",
    "model_clf,model=load_model()\n",
    "\n",
    "def classifier_generator(images):\n",
    "    '''Construct a data generator using tf.Dataset to load only images'''\n",
    "    # image_string=tf.io.read_file(images)\n",
    "    image = tfio.experimental.image.decode_tiff(images)\n",
    "    image = tf.image.convert_image_dtype(image, tf.float32)\n",
    "    image = tf.image.resize(image, [128, 128])\n",
    "    return image\n",
    "\n",
    "def model_predict(img_path):\n",
    "\n",
    "    flag=0\n",
    "    img = classifier_generator(img_path)\n",
    "    img=tf.expand_dims(img,0)\n",
    "    pred_clf=model_clf.predict(img)\n",
    "    if pred_clf >= 0.4:\n",
    "      pred_seg=model.predict(img)\n",
    "      flag=1\n",
    "    else:\n",
    "    \tpred_seg=np.zeros((1,128,128,4),dtype=np.float32)\n",
    "    \n",
    "    return pred_seg,flag\n",
    "\n",
    "up_file = st.file_uploader(\"Please upload an image file\", type=[\"tif\"])\n",
    "\n",
    "\n",
    "if up_file is not None:\n",
    "  fil_rd=Image.open(up_file)\n",
    "  st.image(fil_rd, caption='Uploaded Image.', use_column_width=True)\n",
    "  \n",
    "  bytes_data = tf.convert_to_tensor(up_file.getvalue())\n",
    "  # with st.spinner('Finding nerves...'):\n",
    "  submit = st.button('Predict')\n",
    "  if submit:\n",
    "    img,_=model_predict(bytes_data)\n",
    "    if _==1:\n",
    "      st.success('Nerves found..')\n",
    "      fig = plt.figure()\n",
    "      ax = fig.add_subplot(1,1,1)\n",
    "      ax.imshow(classifier_generator(bytes_data),cmap='gray')\n",
    "      ax.imshow(img[0],alpha=0.7,interpolation='none')\n",
    "      ax.contour(tf.argmax(img[0],axis=-1),colors='blue',levels=[0.5])\n",
    "      ax.set_xticks([])\n",
    "      ax.set_yticks([])\n",
    "      st.write(fig)\n",
    "    else:\n",
    "      st.info('There are no nerves found in the image')  \n"
   ]
  },
  {
   "cell_type": "code",
   "execution_count": null,
   "metadata": {
    "id": "2bvTn8a21MM9"
   },
   "outputs": [],
   "source": [
    "!streamlit run --server.port 80 app.py --&>/dev/null&"
   ]
  }
 ],
 "metadata": {
  "colab": {
   "name": "streamlit_deployment.ipynb",
   "provenance": []
  },
  "kernelspec": {
   "display_name": "Python 3",
   "language": "python",
   "name": "python3"
  },
  "language_info": {
   "codemirror_mode": {
    "name": "ipython",
    "version": 3
   },
   "file_extension": ".py",
   "mimetype": "text/x-python",
   "name": "python",
   "nbconvert_exporter": "python",
   "pygments_lexer": "ipython3",
   "version": "3.8.5"
  }
 },
 "nbformat": 4,
 "nbformat_minor": 1
}
